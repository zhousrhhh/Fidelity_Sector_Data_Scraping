{
 "cells": [
  {
   "cell_type": "markdown",
   "metadata": {},
   "source": [
    "<h1>Scraping fidelity.com</h1>\n",
    "In this assignment, you will scrape data from fidelity.com. The goal of the exercise is to get the latest sector performance data from the US markets, and to get the total market capitalization for each sector. \n",
    "\n",
    "The end result is to write a function: <i>get_us_sector_performance()</i> that will return a list of tuples. Each tuple should correspond to a sector and should contain the following data:\n",
    "<li>the sector name\n",
    "<li>the amount the sector has moved \n",
    "<li>the market capitalization of the sector\n",
    "<li>the market weight of the sector\n",
    "<li>a link to the fidelity page for that sector\n",
    "\n",
    "<p>\n",
    "The data should be sorted by decreasing order of market weight. I.e., the sector with the highest weight should be in the first tuple, etc."
   ]
  },
  {
   "cell_type": "markdown",
   "metadata": {},
   "source": [
    "<h3>Process</h3>\n",
    "<li>Get a list of sectors and the links to the sector detail pages from the url (see function)\n",
    "<li>Loop through the list and call the function <i>get_sector_change_and_market_cap(sector_page_link)</i> for each sector\n",
    "<li>Accumulate the name, the change, the capitalization, the weight and the link for each sector in output_list (see function)\n",
    "<li>Sort the list by market weight"
   ]
  },
  {
   "cell_type": "markdown",
   "metadata": {},
   "source": [
    "<b>Notes:</b>\n",
    "<li>Note that the market weight is a string with a % sign at the back. You will need to get rid of the % and convert the string into a float before you can sort it\n",
    "<li>Your starting data is the url listed below. You need to extract all data, including links to the sector pages, from the page at this url\n",
    "<li>To sort a list of tuples by an arbitrary element, use the example at the bottom of this notebook"
   ]
  },
  {
   "cell_type": "code",
   "execution_count": 1,
   "metadata": {},
   "outputs": [],
   "source": [
    "def get_us_sector_performance():\n",
    "    output_list = []\n",
    "    url = \"https://eresearch.fidelity.com/eresearch/goto/markets_sectors/landing.jhtml\"\n",
    "    \n",
    "    #**** Your code goes here ****\n",
    "    import requests\n",
    "    from bs4 import BeautifulSoup\n",
    "    response = requests.get(url)\n",
    "\n",
    "    if response.status_code == 200:\n",
    "        soup = BeautifulSoup(response.text)\n",
    "        sector_title = soup.find(\"table\",{\"class\":\"sector-list\"})\n",
    "        sector_link = soup.find_all(\"a\", {\"class\":\"heading1\"})\n",
    "        \n",
    "        for sec in sector_link:\n",
    "            sector_name = sec.get_text().strip()\n",
    "            sector_page_link = (\"https://eresearch.fidelity.com\" + sec.get(\"href\")).strip()\n",
    "            sector_change = get_sector_change_and_market_cap(sector_page_link)[0]\n",
    "            sector_market_cap = get_sector_change_and_market_cap(sector_page_link)[1]\n",
    "            sector_market_weight = get_sector_change_and_market_cap(sector_page_link)[2]\n",
    "            output = (sector_name, sector_change, sector_market_cap, sector_market_weight, sector_page_link)\n",
    "            output_list.append(output)\n",
    "        \n",
    "        output_list.sort(key = lambda k: k[3], reverse = True)\n",
    "        \n",
    "    return output_list"
   ]
  },
  {
   "cell_type": "code",
   "execution_count": 2,
   "metadata": {},
   "outputs": [],
   "source": [
    "def get_sector_change_and_market_cap(sector_page_link):\n",
    "    \n",
    "    #**** Your code goes here ****\n",
    "    import requests\n",
    "    from bs4 import BeautifulSoup\n",
    "    response = requests.get(sector_page_link)\n",
    "    \n",
    "    if response.status_code == 200:\n",
    "        soup = BeautifulSoup(response.text)\n",
    "        data_lines = soup.find_all(\"table\", class_ = \"snapshot-data-tbl\")\n",
    "        \n",
    "        for line in data_lines:\n",
    "            data = line.find_all(\"td\")\n",
    "            sector_change = float(data[0].find(\"span\").get_text().replace(\"-\",\"\").replace(\"%\",\"\").strip())\n",
    "            sector_market_cap=data[1].find(\"span\").get_text()\n",
    "            sector_market_weight=float(data[2].find(\"span\").get_text().replace(\"%\",\"\").strip())\n",
    "            \n",
    "    return sector_change,sector_market_cap,sector_market_weight"
   ]
  },
  {
   "cell_type": "code",
   "execution_count": 3,
   "metadata": {},
   "outputs": [
    {
     "data": {
      "text/plain": [
       "(0.86, '$7.24T', 10.64)"
      ]
     },
     "execution_count": 3,
     "metadata": {},
     "output_type": "execute_result"
    }
   ],
   "source": [
    "#Test get_sector_change_and_market_cap()\n",
    "link = \"https://eresearch.fidelity.com/eresearch/markets_sectors/sectors/sectors_in_market.jhtml?tab=learn&sector=25\"\n",
    "get_sector_change_and_market_cap(link)\n",
    "#Should return something like (2.87, '$7.03T', 11.49) (close of day 8/10/2022)\n",
    "#Note that the conversion to int of the change and the weight"
   ]
  },
  {
   "cell_type": "code",
   "execution_count": 4,
   "metadata": {},
   "outputs": [
    {
     "data": {
      "text/plain": [
       "[('Information Technology',\n",
       "  0.57,\n",
       "  '$13.02T',\n",
       "  27.23,\n",
       "  'https://eresearch.fidelity.com/eresearch/markets_sectors/sectors/sectors_in_market.jhtml?tab=learn&sector=45'),\n",
       " ('Health Care',\n",
       "  0.49,\n",
       "  '$7.67T',\n",
       "  14.38,\n",
       "  'https://eresearch.fidelity.com/eresearch/markets_sectors/sectors/sectors_in_market.jhtml?tab=learn&sector=35'),\n",
       " ('Financials',\n",
       "  0.24,\n",
       "  '$8.33T',\n",
       "  11.56,\n",
       "  'https://eresearch.fidelity.com/eresearch/markets_sectors/sectors/sectors_in_market.jhtml?tab=learn&sector=40'),\n",
       " ('Consumer Discretionary',\n",
       "  0.86,\n",
       "  '$7.24T',\n",
       "  10.64,\n",
       "  'https://eresearch.fidelity.com/eresearch/markets_sectors/sectors/sectors_in_market.jhtml?tab=learn&sector=25'),\n",
       " ('Industrials',\n",
       "  0.48,\n",
       "  '$5.49T',\n",
       "  8.34,\n",
       "  'https://eresearch.fidelity.com/eresearch/markets_sectors/sectors/sectors_in_market.jhtml?tab=learn&sector=20'),\n",
       " ('Communication Services',\n",
       "  0.0,\n",
       "  '$4.51T',\n",
       "  8.16,\n",
       "  'https://eresearch.fidelity.com/eresearch/markets_sectors/sectors/sectors_in_market.jhtml?tab=learn&sector=50'),\n",
       " ('Consumer Staples',\n",
       "  1.05,\n",
       "  '$4.07T',\n",
       "  6.58,\n",
       "  'https://eresearch.fidelity.com/eresearch/markets_sectors/sectors/sectors_in_market.jhtml?tab=learn&sector=30'),\n",
       " ('Energy',\n",
       "  0.38,\n",
       "  '$3.58T',\n",
       "  4.76,\n",
       "  'https://eresearch.fidelity.com/eresearch/markets_sectors/sectors/sectors_in_market.jhtml?tab=learn&sector=10'),\n",
       " ('Utilities',\n",
       "  0.91,\n",
       "  '$1.57T',\n",
       "  2.84,\n",
       "  'https://eresearch.fidelity.com/eresearch/markets_sectors/sectors/sectors_in_market.jhtml?tab=learn&sector=55'),\n",
       " ('Real Estate',\n",
       "  1.0,\n",
       "  '$1.39T',\n",
       "  2.78,\n",
       "  'https://eresearch.fidelity.com/eresearch/markets_sectors/sectors/sectors_in_market.jhtml?tab=learn&sector=60'),\n",
       " ('Materials',\n",
       "  0.2,\n",
       "  '$2.54T',\n",
       "  2.72,\n",
       "  'https://eresearch.fidelity.com/eresearch/markets_sectors/sectors/sectors_in_market.jhtml?tab=learn&sector=15')]"
      ]
     },
     "execution_count": 4,
     "metadata": {},
     "output_type": "execute_result"
    }
   ],
   "source": [
    "#Test get_us_sector_performance()\n",
    "get_us_sector_performance()\n"
   ]
  },
  {
   "cell_type": "markdown",
   "metadata": {},
   "source": [
    "<h2>Example of the return value</h2>\n",
    "Note that your result will be different (this is as of close of day 8/10/2022)\n",
    "<pre>\n",
    "[('Information Technology',\n",
    "  2.77,\n",
    "  '$13.42T',\n",
    "  27.91,\n",
    "  'https://eresearch.fidelity.com/eresearch/markets_sectors/sectors/sectors_in_market.jhtml?tab=learn&sector=45'),\n",
    " ('Health Care',\n",
    "  1.12,\n",
    "  '$7.63T',\n",
    "  14.32,\n",
    "  'https://eresearch.fidelity.com/eresearch/markets_sectors/sectors/sectors_in_market.jhtml?tab=learn&sector=35'),\n",
    " ('Consumer Discretionary',\n",
    "  2.87,\n",
    "  '$7.03T',\n",
    "  11.49,\n",
    "  'https://eresearch.fidelity.com/eresearch/markets_sectors/sectors/sectors_in_market.jhtml?tab=learn&sector=25'),\n",
    " ('Financials',\n",
    "  2.32,\n",
    "  '$7.72T',\n",
    "  10.63,\n",
    "  'https://eresearch.fidelity.com/eresearch/markets_sectors/sectors/sectors_in_market.jhtml?tab=learn&sector=40'),\n",
    " ('Communication Services',\n",
    "  2.77,\n",
    "  '$4.70T',\n",
    "  8.41,\n",
    "  'https://eresearch.fidelity.com/eresearch/markets_sectors/sectors/sectors_in_market.jhtml?tab=learn&sector=50'),\n",
    " ('Industrials',\n",
    "  2.22,\n",
    "  '$5.09T',\n",
    "  7.83,\n",
    "  'https://eresearch.fidelity.com/eresearch/markets_sectors/sectors/sectors_in_market.jhtml?tab=learn&sector=20'),\n",
    " ('Consumer Staples',\n",
    "  0.74,\n",
    "  '$4.05T',\n",
    "  6.6,\n",
    "  'https://eresearch.fidelity.com/eresearch/markets_sectors/sectors/sectors_in_market.jhtml?tab=learn&sector=30'),\n",
    " ('Energy',\n",
    "  0.71,\n",
    "  '$3.48T',\n",
    "  4.37,\n",
    "  'https://eresearch.fidelity.com/eresearch/markets_sectors/sectors/sectors_in_market.jhtml?tab=learn&sector=10'),\n",
    " ('Utilities',\n",
    "  0.45,\n",
    "  '$1.74T',\n",
    "  3.0,\n",
    "  'https://eresearch.fidelity.com/eresearch/markets_sectors/sectors/sectors_in_market.jhtml?tab=learn&sector=55'),\n",
    " ('Real Estate',\n",
    "  1.44,\n",
    "  '$1.62T',\n",
    "  2.9,\n",
    "  'https://eresearch.fidelity.com/eresearch/markets_sectors/sectors/sectors_in_market.jhtml?tab=learn&sector=60'),\n",
    " ('Materials',\n",
    "  2.88,\n",
    "  '$2.30T',\n",
    "  2.52,\n",
    "  'https://eresearch.fidelity.com/eresearch/markets_sectors/sectors/sectors_in_market.jhtml?tab=learn&sector=15')]\n",
    " </pre>"
   ]
  },
  {
   "cell_type": "markdown",
   "metadata": {},
   "source": [
    "<h3>Sorting</h3>\n",
    "<li>the <span style=\"color:red\">sort</span> function sorts a list \"in-place\". I.e., the list itself changes so that the contents are in sorted order</li>\n",
    "<li>the <span style=\"color:red\">sorted</span> function returns a new sorted list</li>\n",
    "<li>both functions take arguments that determine the key (<span style=\"color:red\">key=</span>) and the order. Ascending is the default order, to flip it use <span style=\"color:red\">reverse=True</span></li>\n",
    "<li>sort and sorted will only work if the data is sortable. For example, sorted([1,9,2,8,11,'a']) will not work because an integer and a string cannot be ordered. In Python, the order operator is the < (less than) sign</li>"
   ]
  },
  {
   "cell_type": "code",
   "execution_count": 5,
   "metadata": {},
   "outputs": [
    {
     "name": "stdout",
     "output_type": "stream",
     "text": [
      "[1, 2, 8, 9, 11]\n",
      "[11, 9, 8, 2, 1]\n",
      "[1, 9, 2, 8, 11]\n",
      "[1, 2, 8, 9, 11]\n"
     ]
    }
   ],
   "source": [
    "x = [1,9,2,8,11]\n",
    "x.sort()\n",
    "print(x) #x is now a sorted list\n",
    "x.sort(reverse=True)\n",
    "print(x) #x is not sorted in descending order\n",
    "\n",
    "y = [1,9,2,8,11]\n",
    "sorted(y)\n",
    "print(y) #y is unchanged because sorted(y) returned a new list\n",
    "\n",
    "z = sorted(y)\n",
    "print(z) #z contains the sorted contents of y"
   ]
  },
  {
   "cell_type": "markdown",
   "metadata": {},
   "source": [
    "<h3>comparing tuples</h3"
   ]
  },
  {
   "cell_type": "code",
   "execution_count": 6,
   "metadata": {},
   "outputs": [
    {
     "data": {
      "text/plain": [
       "True"
      ]
     },
     "execution_count": 6,
     "metadata": {},
     "output_type": "execute_result"
    }
   ],
   "source": [
    "(1,2,3,5) < (1,2,4,1) \n",
    "#Python does an element wise comparison, somewhat like when strings are compared\n",
    "#When sorting tuples (or lists), that element wise comparison is used to determine ordering"
   ]
  },
  {
   "cell_type": "code",
   "execution_count": 7,
   "metadata": {},
   "outputs": [
    {
     "data": {
      "text/plain": [
       "[('a', 23.2, 'b'),\n",
       " ('c', 17.4, 'f'),\n",
       " ('d', 29.2, 'a'),\n",
       " ('d', 29.2, 'z'),\n",
       " ('e', 1.74, 'bb')]"
      ]
     },
     "execution_count": 7,
     "metadata": {},
     "output_type": "execute_result"
    }
   ],
   "source": [
    "x = [('c',17.4,'f'),('e',1.74,'bb'),('d',29.2,'z'),('a',23.2,'b'),('d',29.2,'a')]\n",
    "x.sort() #Sorts using tuple comparison, going left to right. Note the order of the 'd' tuples\n",
    "x"
   ]
  },
  {
   "cell_type": "markdown",
   "metadata": {},
   "source": [
    "<li>When a key is specified, sort (and sorted) will only use that key\n",
    "<li>In the example below, note that the two 'd' tuples are not re-ordered (because 'z' and 'a' are not compared)\n",
    "<li>sort and sorted are stable sort functions. If two elements are \"equal\" (per the sorting rule), they will be returned in the same order as they were in the original array"
   ]
  },
  {
   "cell_type": "markdown",
   "metadata": {},
   "source": [
    "<h1>lambda functions</h1>\n",
    "<li>lambda functions are anonymous functions, created on the fly, and typically meant to be used once</li>\n",
    "<li>since they are unnamed, they are not callable but are meant to be used in context</li>\n",
    "<li>but, since python functions are first order functions, you can give them a name</li>\n",
    "\n",
    "<li>lambda functions can have only one expression and they return whatever the expression returns</li>\n",
    "<li>the if .. else .. structure in a lambda function is in the form of an \"expression if\"</li>\n",
    "<li>multiple arguments are separated by a comma</li>\n",
    "\n",
    "\n",
    "\n"
   ]
  },
  {
   "cell_type": "code",
   "execution_count": 8,
   "metadata": {},
   "outputs": [
    {
     "data": {
      "text/plain": [
       "10"
      ]
     },
     "execution_count": 8,
     "metadata": {},
     "output_type": "execute_result"
    }
   ],
   "source": [
    "#Example\n",
    "#Three arguments, a,b, c separated by commas\n",
    "#The function returns a if (condition 1) else it returns b if (condition 2); else it returns c\n",
    "#Note the expression if structure\n",
    "#No return statement. Something is always returned!\n",
    "\n",
    "func = lambda a,b,c: a if a>b and a>c else b if b>a and b>c else c\n",
    "func(10,3,8)"
   ]
  },
  {
   "cell_type": "code",
   "execution_count": 9,
   "metadata": {},
   "outputs": [
    {
     "data": {
      "text/plain": [
       "[('e', 1.74, 'bb'),\n",
       " ('c', 17.4, 'f'),\n",
       " ('a', 23.2, 'b'),\n",
       " ('d', 29.2, 'z'),\n",
       " ('d', 29.2, 'a')]"
      ]
     },
     "execution_count": 9,
     "metadata": {},
     "output_type": "execute_result"
    }
   ],
   "source": [
    "x = [('c',17.4,'f'),('e',1.74,'bb'),('d',29.2,'z'),('a',23.2,'b'),('d',29.2,'a')]\n",
    "x.sort(key=lambda k: k[1]) \n",
    "x"
   ]
  },
  {
   "cell_type": "code",
   "execution_count": 10,
   "metadata": {},
   "outputs": [
    {
     "data": {
      "text/plain": [
       "[('e', 1.74, 'bb'),\n",
       " ('c', 17.4, 'f'),\n",
       " ('a', 23.2, 'b'),\n",
       " ('d', 29.2, 'z'),\n",
       " ('d', 29.2, 'a')]"
      ]
     },
     "execution_count": 10,
     "metadata": {},
     "output_type": "execute_result"
    }
   ],
   "source": [
    "#Alternatively, for the sort (and max, min) function\n",
    "#itemgetter returns the item at the specified index in a collection\n",
    "#the key= below tells sort to use the element at location 1 when comparing elements in x\n",
    "\n",
    "\n",
    "\n",
    "from operator import itemgetter\n",
    "x = [('c',17.4,'f'),('e',1.74,'bb'),('d',29.2,'z'),('a',23.2,'b'),('d',29.2,'a')]\n",
    "x.sort(key=itemgetter(1)) \n",
    "x"
   ]
  }
 ],
 "metadata": {
  "kernelspec": {
   "display_name": "Python 3 (ipykernel)",
   "language": "python",
   "name": "python3"
  },
  "language_info": {
   "codemirror_mode": {
    "name": "ipython",
    "version": 3
   },
   "file_extension": ".py",
   "mimetype": "text/x-python",
   "name": "python",
   "nbconvert_exporter": "python",
   "pygments_lexer": "ipython3",
   "version": "3.9.13"
  },
  "toc": {
   "base_numbering": 1,
   "nav_menu": {},
   "number_sections": true,
   "sideBar": true,
   "skip_h1_title": false,
   "title_cell": "Table of Contents",
   "title_sidebar": "Contents",
   "toc_cell": false,
   "toc_position": {},
   "toc_section_display": true,
   "toc_window_display": false
  }
 },
 "nbformat": 4,
 "nbformat_minor": 2
}
